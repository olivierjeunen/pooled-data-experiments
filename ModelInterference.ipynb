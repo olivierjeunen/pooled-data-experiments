{
 "cells": [
  {
   "cell_type": "code",
   "execution_count": 1,
   "id": "f4589e8a",
   "metadata": {},
   "outputs": [],
   "source": [
    "import matplotlib.pyplot as plt\n",
    "import numpy as np\n",
    "import scipy.stats\n",
    "\n",
    "from collections import defaultdict\n",
    "from tqdm.notebook import tqdm"
   ]
  },
  {
   "cell_type": "code",
   "execution_count": 2,
   "id": "a2cf91d0",
   "metadata": {},
   "outputs": [],
   "source": [
    "rng = np.random.default_rng(42)"
   ]
  },
  {
   "cell_type": "code",
   "execution_count": 3,
   "id": "bdb23891",
   "metadata": {},
   "outputs": [],
   "source": [
    "# Ground truths\n",
    "N = 11\n",
    "p = np.linspace(.05, .15, N)"
   ]
  },
  {
   "cell_type": "code",
   "execution_count": 4,
   "id": "e0b99ce3",
   "metadata": {},
   "outputs": [],
   "source": [
    "class EpsilonGreedyPolicy:\n",
    "    def __init__(self, rng=rng, N=N, epsilon=0.0, alpha0=0, beta0=0):\n",
    "        self.rng=rng\n",
    "        self.epsilon=epsilon\n",
    "        self.alpha0=alpha0\n",
    "        self.beta0=beta0\n",
    "        \n",
    "        self.S = np.zeros(N)\n",
    "        self.F = np.zeros(N)\n",
    "    \n",
    "    def act(self):\n",
    "        if self.rng.random() > self.epsilon:\n",
    "            p_hat = np.zeros_like(self.S)\n",
    "            nonzero_mask = np.where((self.S+self.alpha0+self.F+self.beta0)>0)\n",
    "            p_hat[nonzero_mask] = (self.alpha0+self.S[nonzero_mask]) / \\\n",
    "                (self.alpha0+self.S[nonzero_mask]+self.beta0+self.F[nonzero_mask])\n",
    "            return np.random.choice(np.flatnonzero(p_hat == p_hat.max()))\n",
    "        else:\n",
    "            return np.random.choice(len(self.S))\n",
    "        \n",
    "    def update(self, a, r):\n",
    "        if r:\n",
    "            self.S[a] += 1\n",
    "        else:\n",
    "            self.F[a] += 1\n",
    "            \n",
    "    def reset(self):\n",
    "        self.S = np.zeros(N)\n",
    "        self.F = np.zeros(N)\n",
    "\n",
    "class UCBPolicy:\n",
    "    def __init__(self, rng=rng, N=N, alpha0=1, beta0=1, q=0.7):\n",
    "        self.rng=rng\n",
    "        self.alpha0=alpha0\n",
    "        self.beta0=beta0\n",
    "        self.q=q\n",
    "        \n",
    "        self.S = np.zeros(N)\n",
    "        self.F = np.zeros(N)\n",
    "    \n",
    "    def act(self):\n",
    "        p_hat = scipy.stats.beta.ppf(self.q, self.alpha0+self.S, self.beta0+self.F)        \n",
    "        return np.random.choice(np.flatnonzero(p_hat == p_hat.max()))\n",
    "        \n",
    "    def update(self, a, r):\n",
    "        if r:\n",
    "            self.S[a] += 1\n",
    "        else:\n",
    "            self.F[a] += 1\n",
    "            \n",
    "    def reset(self):\n",
    "        self.S = np.zeros(N)\n",
    "        self.F = np.zeros(N)\n",
    "            \n",
    "class ThompsonSamplingPolicy:\n",
    "    def __init__(self, rng=rng, N=N, alpha0=1, beta0=1):\n",
    "        self.rng=rng\n",
    "        self.alpha0=alpha0\n",
    "        self.beta0=beta0\n",
    "        \n",
    "        self.S = np.zeros(N)\n",
    "        self.F = np.zeros(N)\n",
    "    \n",
    "    def act(self):\n",
    "        p_hat = self.rng.beta(self.alpha0+self.S, self.beta0+self.F)        \n",
    "        return np.random.choice(np.flatnonzero(p_hat == p_hat.max()))\n",
    "        \n",
    "    def update(self, a, r):\n",
    "        if r:\n",
    "            self.S[a] += 1\n",
    "        else:\n",
    "            self.F[a] += 1\n",
    "            \n",
    "    def reset(self):\n",
    "        self.S = np.zeros(N)\n",
    "        self.F = np.zeros(N)\n",
    "            \n",
    "            \n",
    "class OraclePolicy:\n",
    "    def __init__(self, p):\n",
    "        self.p = p\n",
    "    \n",
    "    def act(self):\n",
    "        return np.argmax(p)\n",
    "    \n",
    "    def update(self, a, r):\n",
    "        pass\n",
    "    \n",
    "    def reset(self):\n",
    "        pass"
   ]
  },
  {
   "cell_type": "code",
   "execution_count": 5,
   "id": "e6ea4a10",
   "metadata": {},
   "outputs": [],
   "source": [
    "policies = {\n",
    "    'MLE-Greedy': EpsilonGreedyPolicy(rng, N=N, epsilon=0.0, alpha0=0, beta0=0),\n",
    "    'MAP-Greedy': EpsilonGreedyPolicy(rng, N=N, epsilon=0.0, alpha0=2, beta0=10),\n",
    "   r'$\\epsilon$-Greedy': EpsilonGreedyPolicy(rng, N=N, epsilon=0.05, alpha0=2, beta0=10),\n",
    "    'Thompson': ThompsonSamplingPolicy(rng, N=N, alpha0=2, beta0=10),\n",
    "    'UCB': UCBPolicy(rng, N=N, alpha0=2, beta0=10, q=0.7),\n",
    "    'Oracle': OraclePolicy(p),\n",
    "}"
   ]
  },
  {
   "cell_type": "code",
   "execution_count": 6,
   "id": "af75b49f",
   "metadata": {},
   "outputs": [],
   "source": [
    "def simulate_round(policies, pool_data=True):\n",
    "    # Placeholder for data with which we update after this round\n",
    "    updates = []\n",
    "    \n",
    "    # Placeholder for metric per policy\n",
    "    rewards = []\n",
    "    \n",
    "    # Give a sample to every policy\n",
    "    for policy_name, policy in policies.items():        \n",
    "        # Act\n",
    "        a = policy.act()\n",
    "        if policy_name != 'Oracle':\n",
    "            # Simulate reward\n",
    "            r = rng.random() < p[a]\n",
    "            # Store sample to update later and pooled            \n",
    "            if pool_data:\n",
    "                updates.append((a, r))\n",
    "            else:\n",
    "                policy.update(a, r)\n",
    "        \n",
    "        # Store E[reward] instead of sampled reward for reduced variance\n",
    "        rewards.append(p[a])\n",
    "        \n",
    "    # Update every policy\n",
    "    if pool_data:\n",
    "        for policy_name, policy in policies.items():\n",
    "            for a, r in updates:\n",
    "                policy.update(a, r)\n",
    "    \n",
    "    return rewards\n",
    "\n",
    "def simulate_run(policies, pool_data=True):\n",
    "    policy2rewards = defaultdict(list)\n",
    "    for _ in tqdm(range(2_000_000)):        \n",
    "        for y, p in zip(simulate_round(policies, pool_data), policies.keys()):\n",
    "            policy2rewards[p].append(y)\n",
    "    \n",
    "    for policy in policies.values():\n",
    "        policy.reset()\n",
    "            \n",
    "    return policy2rewards"
   ]
  },
  {
   "cell_type": "markdown",
   "id": "2d0ffcf4",
   "metadata": {},
   "source": [
    "## Pooled Data results"
   ]
  },
  {
   "cell_type": "code",
   "execution_count": 7,
   "id": "fbeb059c",
   "metadata": {
    "scrolled": true
   },
   "outputs": [
    {
     "data": {
      "application/vnd.jupyter.widget-view+json": {
       "model_id": "20d85a72370449b48bbf988e4fea6456",
       "version_major": 2,
       "version_minor": 0
      },
      "text/plain": [
       "  0%|          | 0/20 [00:00<?, ?it/s]"
      ]
     },
     "metadata": {},
     "output_type": "display_data"
    },
    {
     "data": {
      "application/vnd.jupyter.widget-view+json": {
       "model_id": "2f83b8f6d4c6449aa5d0a27eefc48109",
       "version_major": 2,
       "version_minor": 0
      },
      "text/plain": [
       "  0%|          | 0/2000000 [00:00<?, ?it/s]"
      ]
     },
     "metadata": {},
     "output_type": "display_data"
    },
    {
     "data": {
      "application/vnd.jupyter.widget-view+json": {
       "model_id": "41aff886c3764240aed257fba3803125",
       "version_major": 2,
       "version_minor": 0
      },
      "text/plain": [
       "  0%|          | 0/2000000 [00:00<?, ?it/s]"
      ]
     },
     "metadata": {},
     "output_type": "display_data"
    },
    {
     "data": {
      "application/vnd.jupyter.widget-view+json": {
       "model_id": "08a29232c7de43bebd802f3ef80c19f3",
       "version_major": 2,
       "version_minor": 0
      },
      "text/plain": [
       "  0%|          | 0/2000000 [00:00<?, ?it/s]"
      ]
     },
     "metadata": {},
     "output_type": "display_data"
    },
    {
     "data": {
      "application/vnd.jupyter.widget-view+json": {
       "model_id": "3eebe88e705d4e3180cc55f7292bd5cc",
       "version_major": 2,
       "version_minor": 0
      },
      "text/plain": [
       "  0%|          | 0/2000000 [00:00<?, ?it/s]"
      ]
     },
     "metadata": {},
     "output_type": "display_data"
    },
    {
     "data": {
      "application/vnd.jupyter.widget-view+json": {
       "model_id": "010036b5516b4c27b4ca26d0c45241f1",
       "version_major": 2,
       "version_minor": 0
      },
      "text/plain": [
       "  0%|          | 0/2000000 [00:00<?, ?it/s]"
      ]
     },
     "metadata": {},
     "output_type": "display_data"
    },
    {
     "data": {
      "application/vnd.jupyter.widget-view+json": {
       "model_id": "52e33a843b974220b844fd1fb14e9ce8",
       "version_major": 2,
       "version_minor": 0
      },
      "text/plain": [
       "  0%|          | 0/2000000 [00:00<?, ?it/s]"
      ]
     },
     "metadata": {},
     "output_type": "display_data"
    },
    {
     "data": {
      "application/vnd.jupyter.widget-view+json": {
       "model_id": "d5c2ce5dcfe244e2b29feb39f9d3f1f6",
       "version_major": 2,
       "version_minor": 0
      },
      "text/plain": [
       "  0%|          | 0/2000000 [00:00<?, ?it/s]"
      ]
     },
     "metadata": {},
     "output_type": "display_data"
    },
    {
     "data": {
      "application/vnd.jupyter.widget-view+json": {
       "model_id": "6cc1a822700b41ae89a90ca9db69e291",
       "version_major": 2,
       "version_minor": 0
      },
      "text/plain": [
       "  0%|          | 0/2000000 [00:00<?, ?it/s]"
      ]
     },
     "metadata": {},
     "output_type": "display_data"
    },
    {
     "data": {
      "application/vnd.jupyter.widget-view+json": {
       "model_id": "ae4bbd3edfff48018dec26203442bcf4",
       "version_major": 2,
       "version_minor": 0
      },
      "text/plain": [
       "  0%|          | 0/2000000 [00:01<?, ?it/s]"
      ]
     },
     "metadata": {},
     "output_type": "display_data"
    },
    {
     "data": {
      "application/vnd.jupyter.widget-view+json": {
       "model_id": "1b5075814a6c48dcb0c1ab4e8c035eab",
       "version_major": 2,
       "version_minor": 0
      },
      "text/plain": [
       "  0%|          | 0/2000000 [00:00<?, ?it/s]"
      ]
     },
     "metadata": {},
     "output_type": "display_data"
    },
    {
     "data": {
      "application/vnd.jupyter.widget-view+json": {
       "model_id": "2789f918fcc14acc9e37d96d2785a7f1",
       "version_major": 2,
       "version_minor": 0
      },
      "text/plain": [
       "  0%|          | 0/2000000 [00:00<?, ?it/s]"
      ]
     },
     "metadata": {},
     "output_type": "display_data"
    },
    {
     "data": {
      "application/vnd.jupyter.widget-view+json": {
       "model_id": "e380c3f322dc4b9d8673032e0384bc24",
       "version_major": 2,
       "version_minor": 0
      },
      "text/plain": [
       "  0%|          | 0/2000000 [00:00<?, ?it/s]"
      ]
     },
     "metadata": {},
     "output_type": "display_data"
    },
    {
     "data": {
      "application/vnd.jupyter.widget-view+json": {
       "model_id": "aca69732d732437eb53c1174e3b1ac6c",
       "version_major": 2,
       "version_minor": 0
      },
      "text/plain": [
       "  0%|          | 0/2000000 [00:00<?, ?it/s]"
      ]
     },
     "metadata": {},
     "output_type": "display_data"
    },
    {
     "data": {
      "application/vnd.jupyter.widget-view+json": {
       "model_id": "a0f9e886de4b40cdaf8846bd2f9524d0",
       "version_major": 2,
       "version_minor": 0
      },
      "text/plain": [
       "  0%|          | 0/2000000 [00:00<?, ?it/s]"
      ]
     },
     "metadata": {},
     "output_type": "display_data"
    },
    {
     "data": {
      "application/vnd.jupyter.widget-view+json": {
       "model_id": "b4ca252b53814b91b38d53f54e83cc11",
       "version_major": 2,
       "version_minor": 0
      },
      "text/plain": [
       "  0%|          | 0/2000000 [00:00<?, ?it/s]"
      ]
     },
     "metadata": {},
     "output_type": "display_data"
    },
    {
     "data": {
      "application/vnd.jupyter.widget-view+json": {
       "model_id": "343ec026f42c404f91ef6832de8982c1",
       "version_major": 2,
       "version_minor": 0
      },
      "text/plain": [
       "  0%|          | 0/2000000 [00:00<?, ?it/s]"
      ]
     },
     "metadata": {},
     "output_type": "display_data"
    },
    {
     "data": {
      "application/vnd.jupyter.widget-view+json": {
       "model_id": "427342dfcfd641a7a325cf2448aa80d1",
       "version_major": 2,
       "version_minor": 0
      },
      "text/plain": [
       "  0%|          | 0/2000000 [00:00<?, ?it/s]"
      ]
     },
     "metadata": {},
     "output_type": "display_data"
    },
    {
     "data": {
      "application/vnd.jupyter.widget-view+json": {
       "model_id": "dcee7242b2b3499abb0dd5a17bc263ff",
       "version_major": 2,
       "version_minor": 0
      },
      "text/plain": [
       "  0%|          | 0/2000000 [00:00<?, ?it/s]"
      ]
     },
     "metadata": {},
     "output_type": "display_data"
    },
    {
     "data": {
      "application/vnd.jupyter.widget-view+json": {
       "model_id": "212c2a85dbab46a382a1dd4bec7a9a93",
       "version_major": 2,
       "version_minor": 0
      },
      "text/plain": [
       "  0%|          | 0/2000000 [00:00<?, ?it/s]"
      ]
     },
     "metadata": {},
     "output_type": "display_data"
    },
    {
     "data": {
      "application/vnd.jupyter.widget-view+json": {
       "model_id": "d30734cc2f5e4c5b9619698f948d2b8f",
       "version_major": 2,
       "version_minor": 0
      },
      "text/plain": [
       "  0%|          | 0/2000000 [00:00<?, ?it/s]"
      ]
     },
     "metadata": {},
     "output_type": "display_data"
    }
   ],
   "source": [
    "num_runs = 20\n",
    "run2policy2reward_pooled = {}\n",
    "for run in tqdm(range(num_runs)):\n",
    "    run2policy2reward_pooled[run] = simulate_run(policies, pool_data=True)"
   ]
  },
  {
   "cell_type": "code",
   "execution_count": 8,
   "id": "6edb1d64",
   "metadata": {},
   "outputs": [],
   "source": [
    "policy2reward_pooled_mean = {\n",
    "    policy_name: np.vstack([np.cumsum(run2policy2reward_pooled[i][policy_name]) for i in range(num_runs)]).mean(axis=0)\n",
    "    for policy_name in policies.keys()\n",
    "}\n",
    "policy2reward_pooled_std = {\n",
    "    policy_name: np.vstack([np.cumsum(run2policy2reward_pooled[i][policy_name]) for i in range(num_runs)]).std(axis=0)\n",
    "    for policy_name in policies.keys()\n",
    "}"
   ]
  },
  {
   "cell_type": "markdown",
   "id": "9830cdff",
   "metadata": {},
   "source": [
    "## Non-pooled Data results"
   ]
  },
  {
   "cell_type": "code",
   "execution_count": 9,
   "id": "adec0ee2",
   "metadata": {},
   "outputs": [
    {
     "data": {
      "application/vnd.jupyter.widget-view+json": {
       "model_id": "aa534d0dadf74ecb88f57b2cce326c25",
       "version_major": 2,
       "version_minor": 0
      },
      "text/plain": [
       "  0%|          | 0/20 [00:00<?, ?it/s]"
      ]
     },
     "metadata": {},
     "output_type": "display_data"
    },
    {
     "data": {
      "application/vnd.jupyter.widget-view+json": {
       "model_id": "526c884db4624f109742d48aa509b4a7",
       "version_major": 2,
       "version_minor": 0
      },
      "text/plain": [
       "  0%|          | 0/2000000 [00:00<?, ?it/s]"
      ]
     },
     "metadata": {},
     "output_type": "display_data"
    },
    {
     "data": {
      "application/vnd.jupyter.widget-view+json": {
       "model_id": "093b0ea097aa41bdb7b85d0dada2c48d",
       "version_major": 2,
       "version_minor": 0
      },
      "text/plain": [
       "  0%|          | 0/2000000 [00:00<?, ?it/s]"
      ]
     },
     "metadata": {},
     "output_type": "display_data"
    },
    {
     "data": {
      "application/vnd.jupyter.widget-view+json": {
       "model_id": "cb0f6d239957461cb0515f12b1c965c8",
       "version_major": 2,
       "version_minor": 0
      },
      "text/plain": [
       "  0%|          | 0/2000000 [00:00<?, ?it/s]"
      ]
     },
     "metadata": {},
     "output_type": "display_data"
    },
    {
     "data": {
      "application/vnd.jupyter.widget-view+json": {
       "model_id": "98203565450e4394882f75766ec80d03",
       "version_major": 2,
       "version_minor": 0
      },
      "text/plain": [
       "  0%|          | 0/2000000 [00:00<?, ?it/s]"
      ]
     },
     "metadata": {},
     "output_type": "display_data"
    },
    {
     "data": {
      "application/vnd.jupyter.widget-view+json": {
       "model_id": "3a6351fd3f4d4c33a456c1abb0cf7de7",
       "version_major": 2,
       "version_minor": 0
      },
      "text/plain": [
       "  0%|          | 0/2000000 [00:00<?, ?it/s]"
      ]
     },
     "metadata": {},
     "output_type": "display_data"
    },
    {
     "data": {
      "application/vnd.jupyter.widget-view+json": {
       "model_id": "d31d04a4b9e1426c924521dbf37c74dd",
       "version_major": 2,
       "version_minor": 0
      },
      "text/plain": [
       "  0%|          | 0/2000000 [00:00<?, ?it/s]"
      ]
     },
     "metadata": {},
     "output_type": "display_data"
    },
    {
     "data": {
      "application/vnd.jupyter.widget-view+json": {
       "model_id": "db772fd95d1748ca8ab13015cc28985b",
       "version_major": 2,
       "version_minor": 0
      },
      "text/plain": [
       "  0%|          | 0/2000000 [00:00<?, ?it/s]"
      ]
     },
     "metadata": {},
     "output_type": "display_data"
    },
    {
     "data": {
      "application/vnd.jupyter.widget-view+json": {
       "model_id": "8f51b28403ca472f9d090813cbf2cb76",
       "version_major": 2,
       "version_minor": 0
      },
      "text/plain": [
       "  0%|          | 0/2000000 [00:00<?, ?it/s]"
      ]
     },
     "metadata": {},
     "output_type": "display_data"
    },
    {
     "data": {
      "application/vnd.jupyter.widget-view+json": {
       "model_id": "c9b1850922aa4a5aa597ad621ebc56b1",
       "version_major": 2,
       "version_minor": 0
      },
      "text/plain": [
       "  0%|          | 0/2000000 [00:00<?, ?it/s]"
      ]
     },
     "metadata": {},
     "output_type": "display_data"
    },
    {
     "data": {
      "application/vnd.jupyter.widget-view+json": {
       "model_id": "6bc882cd45bc492683c980bb3a3c9aa9",
       "version_major": 2,
       "version_minor": 0
      },
      "text/plain": [
       "  0%|          | 0/2000000 [00:00<?, ?it/s]"
      ]
     },
     "metadata": {},
     "output_type": "display_data"
    },
    {
     "data": {
      "application/vnd.jupyter.widget-view+json": {
       "model_id": "73f6af2e17dc4a1bae019883b0830c47",
       "version_major": 2,
       "version_minor": 0
      },
      "text/plain": [
       "  0%|          | 0/2000000 [00:00<?, ?it/s]"
      ]
     },
     "metadata": {},
     "output_type": "display_data"
    },
    {
     "data": {
      "application/vnd.jupyter.widget-view+json": {
       "model_id": "ced0cbf19c93427d8dcd30452d3e2c1b",
       "version_major": 2,
       "version_minor": 0
      },
      "text/plain": [
       "  0%|          | 0/2000000 [00:00<?, ?it/s]"
      ]
     },
     "metadata": {},
     "output_type": "display_data"
    },
    {
     "data": {
      "application/vnd.jupyter.widget-view+json": {
       "model_id": "fb38acb8bbc14adaa48014cb3ca0376a",
       "version_major": 2,
       "version_minor": 0
      },
      "text/plain": [
       "  0%|          | 0/2000000 [00:00<?, ?it/s]"
      ]
     },
     "metadata": {},
     "output_type": "display_data"
    },
    {
     "data": {
      "application/vnd.jupyter.widget-view+json": {
       "model_id": "d38e8dbe57104bb9b3196b9db2edfc06",
       "version_major": 2,
       "version_minor": 0
      },
      "text/plain": [
       "  0%|          | 0/2000000 [00:00<?, ?it/s]"
      ]
     },
     "metadata": {},
     "output_type": "display_data"
    },
    {
     "data": {
      "application/vnd.jupyter.widget-view+json": {
       "model_id": "9fa33b8ee2164cb6a8ea0d9a2ad45778",
       "version_major": 2,
       "version_minor": 0
      },
      "text/plain": [
       "  0%|          | 0/2000000 [00:00<?, ?it/s]"
      ]
     },
     "metadata": {},
     "output_type": "display_data"
    },
    {
     "data": {
      "application/vnd.jupyter.widget-view+json": {
       "model_id": "0573581dd1fa4813b76798c128fc2991",
       "version_major": 2,
       "version_minor": 0
      },
      "text/plain": [
       "  0%|          | 0/2000000 [00:00<?, ?it/s]"
      ]
     },
     "metadata": {},
     "output_type": "display_data"
    },
    {
     "data": {
      "application/vnd.jupyter.widget-view+json": {
       "model_id": "69e543b5405d4b0ea057bf90cf56cf11",
       "version_major": 2,
       "version_minor": 0
      },
      "text/plain": [
       "  0%|          | 0/2000000 [00:00<?, ?it/s]"
      ]
     },
     "metadata": {},
     "output_type": "display_data"
    },
    {
     "data": {
      "application/vnd.jupyter.widget-view+json": {
       "model_id": "aecc422bbe9f455394d862264fc27ea3",
       "version_major": 2,
       "version_minor": 0
      },
      "text/plain": [
       "  0%|          | 0/2000000 [00:00<?, ?it/s]"
      ]
     },
     "metadata": {},
     "output_type": "display_data"
    },
    {
     "data": {
      "application/vnd.jupyter.widget-view+json": {
       "model_id": "58206cc1e08d47698dcfd8360d919024",
       "version_major": 2,
       "version_minor": 0
      },
      "text/plain": [
       "  0%|          | 0/2000000 [00:13<?, ?it/s]"
      ]
     },
     "metadata": {},
     "output_type": "display_data"
    },
    {
     "data": {
      "application/vnd.jupyter.widget-view+json": {
       "model_id": "17b4460a48034569a69273c6cf3e7924",
       "version_major": 2,
       "version_minor": 0
      },
      "text/plain": [
       "  0%|          | 0/2000000 [00:00<?, ?it/s]"
      ]
     },
     "metadata": {},
     "output_type": "display_data"
    }
   ],
   "source": [
    "run2policy2reward_siloed = {}\n",
    "for run in tqdm(range(num_runs)):\n",
    "    run2policy2reward_siloed [run] = simulate_run(policies, pool_data=False)"
   ]
  },
  {
   "cell_type": "code",
   "execution_count": 10,
   "id": "ddfbda49",
   "metadata": {},
   "outputs": [],
   "source": [
    "policy2reward_siloed_mean = {\n",
    "    policy_name: np.vstack([np.cumsum(run2policy2reward_siloed[i][policy_name]) for i in range(num_runs)]).mean(axis=0)\n",
    "    for policy_name in policies.keys()\n",
    "}\n",
    "policy2reward_siloed_std = {\n",
    "    policy_name: np.vstack([np.cumsum(run2policy2reward_siloed[i][policy_name]) for i in range(num_runs)]).std(axis=0)\n",
    "    for policy_name in policies.keys()\n",
    "}"
   ]
  },
  {
   "cell_type": "markdown",
   "id": "0d13046f",
   "metadata": {},
   "source": [
    "## Visualise"
   ]
  },
  {
   "cell_type": "code",
   "execution_count": 11,
   "id": "8be6daaa",
   "metadata": {},
   "outputs": [],
   "source": [
    "import matplotlib as mpl\n",
    "\n",
    "new_rc_params = {'text.usetex': True,\n",
    "    'svg.fonttype': 'none',\n",
    "    'font.family': 'Linux Libertine',\n",
    "    'text.latex.preamble': r'\\usepackage{libertine}',\n",
    "    'mathtext.fontset': 'custom',\n",
    "    'mathtext.rm': 'libertine',\n",
    "    'mathtext.it': 'libertine:italic',\n",
    "    'mathtext.bf': 'libertine:bold'\n",
    "    }\n",
    "mpl.rcParams.update(new_rc_params)\n",
    "plt.style.use('tableau-colorblind10')\n",
    "plt.rc('axes', axisbelow=True)\n",
    "\n",
    "# https://gist.github.com/AndiH/c957b4d769e628f506bd\n",
    "# Tableau 20 Colors\n",
    "tableau20 = [(31, 119, 180), (174, 199, 232), (255, 127, 14), (255, 187, 120),  \n",
    "             (44, 160, 44), (152, 223, 138), (214, 39, 40), (255, 152, 150),  \n",
    "             (148, 103, 189), (197, 176, 213), (140, 86, 75), (196, 156, 148),  \n",
    "             (227, 119, 194), (247, 182, 210), (127, 127, 127), (199, 199, 199),  \n",
    "             (188, 189, 34), (219, 219, 141), (23, 190, 207), (158, 218, 229)]\n",
    "\n",
    "# Tableau Color Blind 10\n",
    "tableau20blind = [(0, 107, 164), (255, 128, 14), (171, 171, 171), (89, 89, 89),\n",
    "             (95, 158, 209), (200, 82, 0), (137, 137, 137), (163, 200, 236),\n",
    "             (255, 188, 121), (207, 207, 207)]\n",
    "  \n",
    "# Rescale to values between 0 and 1 \n",
    "for i in range(len(tableau20)):  \n",
    "    r, g, b = tableau20[i]  \n",
    "    tableau20[i] = (r / 255., g / 255., b / 255.)\n",
    "for i in range(len(tableau20blind)):  \n",
    "    r, g, b = tableau20blind[i]  \n",
    "    tableau20blind[i] = (r / 255., g / 255., b / 255.)\n",
    "    \n",
    "linestyles=['-', '--', (0, (5, 10)), '-.', ':']"
   ]
  },
  {
   "cell_type": "code",
   "execution_count": 12,
   "id": "e7424a8a",
   "metadata": {},
   "outputs": [],
   "source": [
    "figsize=(10,2.25)\n",
    "fontsize=16"
   ]
  },
  {
   "cell_type": "code",
   "execution_count": 19,
   "id": "ec7226ef",
   "metadata": {},
   "outputs": [
    {
     "data": {
      "image/png": "[encoded data removed]",
      "text/plain": [
       "<Figure size 1000x225 with 2 Axes>"
      ]
     },
     "metadata": {},
     "output_type": "display_data"
    }
   ],
   "source": [
    "fig, axes = plt.subplots(1, 2, sharey='row', figsize=figsize,gridspec_kw={'width_ratios': [1, 1], 'wspace': .05})\n",
    "cycler = plt.cycler(\n",
    "    color=tableau20[0:10:2],\n",
    "    marker=['o','s','d','v','^']\n",
    ")\n",
    "axes[0].set_prop_cycle(cycler)\n",
    "axes[1].set_prop_cycle(cycler)\n",
    "\n",
    "for policy, reward in policy2reward_pooled_mean.items():    \n",
    "    if policy != 'Oracle':\n",
    "        # Pooled Data\n",
    "        y = policy2reward_pooled_mean['Oracle'] - policy2reward_pooled_mean[policy]\n",
    "        x = np.arange(len(y))\n",
    "        jump=100\n",
    "        \n",
    "        axes[0].plot(x[::jump], y[::jump], label=f'{policy}', markevery=2000)\n",
    "\n",
    "        y_lo = y - 1.96 * policy2reward_pooled_std[policy] / np.sqrt(num_runs)\n",
    "        y_hi = y + 1.96 * policy2reward_pooled_std[policy] / np.sqrt(num_runs)\n",
    "        axes[0].fill_between(x[::jump], y_lo[::jump], y_hi[::jump], alpha=0.15)\n",
    "        \n",
    "        # Siloed Data\n",
    "        y = policy2reward_siloed_mean['Oracle'] - policy2reward_siloed_mean[policy]\n",
    "        axes[1].plot(x[::jump], y[::jump], ls='--', label=f'{policy} (siloed)', markevery=2000)\n",
    "\n",
    "        y_lo = y - 1.96 * policy2reward_siloed_std[policy] / np.sqrt(num_runs)\n",
    "        y_hi = y + 1.96 * policy2reward_siloed_std[policy] / np.sqrt(num_runs)\n",
    "        axes[1].fill_between(x[::jump], y_lo[::jump], y_hi[::jump], alpha=0.15)\n",
    "\n",
    "plt.yscale('log')\n",
    "plt.ylim(2, None)\n",
    "\n",
    "axes[0].set_xlim(-10_000, None)\n",
    "axes[1].set_xlim(-10_000, None)\n",
    "\n",
    "axes[0].set_title('Pooled data', fontsize=fontsize)\n",
    "axes[1].set_title('Siloed data', fontsize=fontsize)\n",
    "\n",
    "axes[0].grid(True, 'major', 'y', ls='--', lw=.5, c='k', alpha=.3)\n",
    "axes[0].set_xlabel('Round', fontsize=fontsize-2)\n",
    "axes[0].set_ylabel('Cumulative Regret', fontsize=fontsize-2)\n",
    "axes[0].tick_params(labelsize=fontsize-4)\n",
    "axes[0].legend(fontsize=fontsize-4, ncols=5, loc='lower left', bbox_to_anchor=(-0.02, -.5))\n",
    "axes[1].grid(True, 'major', 'y', ls='--', lw=.5, c='k', alpha=.3)\n",
    "axes[1].set_xlabel('Round', fontsize=fontsize-2)\n",
    "axes[1].tick_params(labelsize=fontsize-4)\n",
    "\n",
    "plt.savefig('Fig1.pdf', transparent=True, bbox_inches='tight')\n",
    "plt.show()"
   ]
  }
 ],
 "metadata": {
  "kernelspec": {
   "display_name": "Python 3 (ipykernel)",
   "language": "python",
   "name": "python3"
  },
  "language_info": {
   "codemirror_mode": {
    "name": "ipython",
    "version": 3
   },
   "file_extension": ".py",
   "mimetype": "text/x-python",
   "name": "python",
   "nbconvert_exporter": "python",
   "pygments_lexer": "ipython3",
   "version": "3.9.6"
  }
 },
 "nbformat": 4,
 "nbformat_minor": 5
}
